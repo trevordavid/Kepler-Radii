{
 "cells": [
  {
   "cell_type": "code",
   "execution_count": 61,
   "metadata": {},
   "outputs": [
    {
     "name": "stdout",
     "output_type": "stream",
     "text": [
      "exoplanet.__version__ = '0.5.1'\n"
     ]
    }
   ],
   "source": [
    "import exoplanet\n",
    "\n",
    "#exoplanet.utils.docs_setup()\n",
    "print(f\"exoplanet.__version__ = '{exoplanet.__version__}'\")"
   ]
  },
  {
   "cell_type": "code",
   "execution_count": 62,
   "metadata": {},
   "outputs": [],
   "source": [
    "import csv\n",
    "import numpy as np\n",
    "import pandas as pd\n",
    "import lightkurve as lk\n",
    "import matplotlib.pyplot as plt\n",
    "\n",
    "import exoplanet as xo\n",
    "\n",
    "import pymc3 as pm\n",
    "import aesara_theano_fallback.tensor as tt\n",
    "import pymc3_ext as pmx \n",
    "from celerite2.theano import terms, GaussianProcess"
   ]
  },
  {
   "cell_type": "markdown",
   "metadata": {},
   "source": [
    "This pipeline was adapted from the [Quick TESS](https://gallery.exoplanet.codes/tutorials/quick-tess/) case study from the exoplanet docs:"
   ]
  },
  {
   "cell_type": "code",
   "execution_count": 63,
   "metadata": {},
   "outputs": [],
   "source": [
    "def pipeline(kepid, koi, period_guess, t0_guess, depth_guess, cadence = 'long'):\n",
    "    \n",
    "    nplanets = len(period_guess)\n",
    "    \n",
    "    lcfs = lk.search_lightcurve(kepid,\n",
    "                                author=\"Kepler\",\n",
    "                                cadence=cadence).download_all(flux_column=\"pdcsap_flux\")\n",
    "    lc = lcfs.stitch().remove_nans().remove_outliers(sigma=7)\n",
    "\n",
    "    x = np.ascontiguousarray(lc.time.value, dtype=np.float64)\n",
    "    y = np.ascontiguousarray(1e3 * (lc.flux - 1), dtype=np.float64)\n",
    "    yerr = np.ascontiguousarray(1e3 * lc.flux_err, dtype=np.float64)\n",
    "\n",
    "    texp = np.min(np.diff(x))\n",
    "    \n",
    "    fig,ax = plt.subplots(nrows= nplanets + 1, ncols = 1, figsize=(8,6*nplanets)) \n",
    "\n",
    "    ax[0].plot(x, y, \"k\", linewidth=0.5)\n",
    "    ax[0].set_xlabel(\"Time [days]\")\n",
    "    _ = ax[0].set_ylabel(\"Relative flux [ppt]\")\n",
    "    ax[0].set_title(kepid)\n",
    "    \n",
    "    argsort_x = np.argsort(x)\n",
    "    x = x[argsort_x]\n",
    "    y = y[argsort_x]\n",
    "    yerr = yerr[argsort_x]\n",
    "    \n",
    "    # Quick rotation period determination with Lomb-Scargle periodogram\n",
    "    ls_results = xo.estimators.lomb_scargle_estimator(\n",
    "        x, y, max_peaks=1, min_period=0.1, max_period=50.0, samples_per_peak=50)\n",
    "    ls_peak = ls_results[\"peaks\"][0]\n",
    "    \n",
    "    \n",
    "    with pm.Model() as model:\n",
    "\n",
    "        # Stellar parameters\n",
    "        mean = pm.Normal(\"mean\", mu=0.0, sigma=10.0) \n",
    "        u = xo.QuadLimbDark(\"u\") #same, under Kipping 2013 comment\n",
    "        star_params = [mean, u]\n",
    "\n",
    "        # Gaussian process noise model\n",
    "        sigma = pm.InverseGamma(\"sigma\", alpha=3.0, beta=2 * np.median(yerr))\n",
    "        log_sigma_gp = pm.Normal(\"log_sigma_gp\", mu=0.0, sigma=10.0)\n",
    "        log_rho_gp = pm.Normal(\"log_rho_gp\", mu=np.log(10.0), sigma=10.0)\n",
    "        kernel = terms.SHOTerm(\n",
    "            sigma=tt.exp(log_sigma_gp), rho=tt.exp(log_rho_gp), Q=1.0 / 3\n",
    "        )\n",
    "        noise_params = [sigma, log_sigma_gp, log_rho_gp]\n",
    "\n",
    "        # Planet parameters\n",
    "        log_ror = pm.Normal(\n",
    "            \"log_ror\", mu=0.5 * np.log(depth_guess * 1e-3), sigma=10.0, shape = nplanets\n",
    "        ) #changed\n",
    "        ror = pm.Deterministic(\"ror\", tt.exp(log_ror))\n",
    "\n",
    "        # Orbital parameters\n",
    "        log_period = pm.Normal(\"log_period\", mu=np.log(period_guess), sigma=1.0, shape = nplanets) #changed, eventually change into shape = n_planets \n",
    "        period = pm.Deterministic(\"period\", tt.exp(log_period)) #same\n",
    "        t0 = pm.Normal(\"t0\", mu=t0_guess, sigma=1.0, shape = nplanets) #changed\n",
    "        log_dur = pm.Normal(\"log_dur\", mu=np.log(0.1), sigma=10.0, shape = nplanets)\n",
    "        dur = pm.Deterministic(\"dur\", tt.exp(log_dur))\n",
    "        b = xo.distributions.ImpactParameter(\"b\", ror=ror, shape = nplanets) #changed\n",
    "\n",
    "        # Set up the orbit\n",
    "        orbit = xo.orbits.KeplerianOrbit(period=period, ror = ror, duration=dur, t0=t0, b=b) #Same except this has duration\n",
    "\n",
    "        # We're going to track the implied density for reasons that will become clear later\n",
    "        pm.Deterministic(\"rho_circ\", orbit.rho_star) #transit notebook uses light_curves\n",
    "\n",
    "        # Set up the mean transit model\n",
    "        star = xo.LimbDarkLightCurve(u)\n",
    "        lc_model = mean + 1e3 * tt.sum(\n",
    "            star.get_light_curve(orbit=orbit, r=ror, t=x, texp = texp), axis=-1)\n",
    "            \n",
    "        lc_models = mean + 1e3 * star.get_light_curve(orbit=orbit, r=ror, t=x, texp = texp)\n",
    "\n",
    "        # Finally the GP observation model\n",
    "        gp = GaussianProcess(kernel, t=x, diag=yerr ** 2 + sigma ** 2)\n",
    "        gp.marginal(\"obs\", observed=y - lc_model)\n",
    "\n",
    "        # Double check that everything looks good - we shouldn't see any NaNs!\n",
    "        print(model.check_test_point())\n",
    "\n",
    "        # Optimize the model\n",
    "        map_soln = model.test_point\n",
    "        map_soln = pmx.optimize(map_soln, [sigma])\n",
    "        map_soln = pmx.optimize(map_soln, [ror, b, dur])\n",
    "        map_soln = pmx.optimize(map_soln, noise_params)\n",
    "        map_soln = pmx.optimize(map_soln, star_params)\n",
    "        map_soln = pmx.optimize(map_soln)\n",
    "        \n",
    "        \n",
    "        with model:\n",
    "\n",
    "            lc_pred = pmx.eval_in_model(lc_models, map_soln)\n",
    "            lc_sum  = pmx.eval_in_model(lc_model, map_soln)\n",
    "            gp_pred = pmx.eval_in_model(gp.predict(y - lc_sum), map_soln)\n",
    "\n",
    "            for i in range(nplanets):\n",
    "                \n",
    "                x_fold = (x - map_soln[\"t0\"][i] + 0.5 * map_soln[\"period\"][i]) % map_soln[\"period\"][i] - 0.5 * map_soln[\"period\"][i]\n",
    "                inds = np.argsort(x_fold)\n",
    "                \n",
    "                flattened_lc = y - gp_pred - map_soln[\"mean\"]\n",
    "                #other = map_soln #not sure why I put this here\n",
    "                sc = ax[i+1].scatter(x_fold, y - gp_pred - map_soln[\"mean\"], c=x, s=3, rasterized = True)\n",
    "                ax[i+1].plot(x_fold[inds], lc_pred[inds,i] - map_soln[\"mean\"], \"k\")\n",
    "                ax[i+1].set_xlabel(\"Time since transit [days]\")\n",
    "                ax[i+1].set_ylabel(\"Relative flux [ppt]\")\n",
    "                fig.colorbar(sc,label=\"Time [days]\", ax = ax[i+1])\n",
    "                _ = ax[i+1].set_xlim(-0.25, 0.25)\n",
    "                ax[i+1].set_ylim(np.percentile(flattened_lc,0.01),np.percentile(flattened_lc,99.9))\n",
    "                ax[i+1].set_title(koi[i])\n",
    "                \n",
    "                plt.tight_layout()     \n",
    "                plt.savefig(\"./Figures/\" + kepid.replace(\" \",\"\") + \".png\", dpi = 200)\n",
    "                plt.close()\n",
    "            \n",
    "            # Add KOI names to map_soln dictionary\n",
    "            map_soln['koi'] = koi\n",
    "            \n",
    "            # Add signal-to-noise to map_soln dictionary\n",
    "            resid = flattened_lc - lc_sum\n",
    "            rms   = np.sqrt(np.median(resid ** 2))\n",
    "            snr   = 1e3*(map_soln[\"ror\"]**2)/rms\n",
    "            \n",
    "            map_soln[\"rms\"] = rms\n",
    "            map_soln[\"snr\"] = snr\n",
    "            \n",
    "            # Add Lomb-Scargle period to map_soln dictionary\n",
    "            map_soln[\"prot\"] = ls_peak[\"period\"]\n",
    "            \n",
    "            # Format map_soln values as arrays. This makes reading in the output files easier.\n",
    "            for key in map_soln:\n",
    "                map_soln[key] = np.array(map_soln[key])\n",
    "            \n",
    "            # Write map_soln dictionary to file (every key and value)\n",
    "            w = csv.writer(open(\"./outputs/\" + kepid.replace(\" \",\"\") + '.csv', \"w\"))\n",
    "            for key, val in map_soln.items():\n",
    "                w.writerow([key, val])\n",
    "            \n",
    "        \n",
    "        return map_soln, x, y, yerr"
   ]
  },
  {
   "cell_type": "markdown",
   "metadata": {},
   "source": [
    "# Read in sample file\n",
    "This file has all of the pertinent information needed to provide initial estimates for the optimization step in the pipeline."
   ]
  },
  {
   "cell_type": "code",
   "execution_count": 64,
   "metadata": {},
   "outputs": [
    {
     "data": {
      "text/html": [
       "<div>\n",
       "<style scoped>\n",
       "    .dataframe tbody tr th:only-of-type {\n",
       "        vertical-align: middle;\n",
       "    }\n",
       "\n",
       "    .dataframe tbody tr th {\n",
       "        vertical-align: top;\n",
       "    }\n",
       "\n",
       "    .dataframe thead th {\n",
       "        text-align: right;\n",
       "    }\n",
       "</style>\n",
       "<table border=\"1\" class=\"dataframe\">\n",
       "  <thead>\n",
       "    <tr style=\"text-align: right;\">\n",
       "      <th></th>\n",
       "      <th>Unnamed: 0</th>\n",
       "      <th>dr25_kepid</th>\n",
       "      <th>dr25_kepoi_name</th>\n",
       "      <th>dr25_kepler_name</th>\n",
       "      <th>dr25_ra</th>\n",
       "      <th>dr25_ra_err</th>\n",
       "      <th>dr25_ra_str</th>\n",
       "      <th>dr25_dec</th>\n",
       "      <th>dr25_dec_err</th>\n",
       "      <th>dr25_dec_str</th>\n",
       "      <th>...</th>\n",
       "      <th>b20_e_log10_iso_age</th>\n",
       "      <th>b18_KIC</th>\n",
       "      <th>b18_KOI</th>\n",
       "      <th>b18_Rp</th>\n",
       "      <th>b18_E_Rp</th>\n",
       "      <th>b18_e_Rp</th>\n",
       "      <th>b18_Fp</th>\n",
       "      <th>b18_E_Fp</th>\n",
       "      <th>b18_e_Fp</th>\n",
       "      <th>b18_Bin</th>\n",
       "    </tr>\n",
       "  </thead>\n",
       "  <tbody>\n",
       "    <tr>\n",
       "      <th>0</th>\n",
       "      <td>6</td>\n",
       "      <td>10872983</td>\n",
       "      <td>K00756.03</td>\n",
       "      <td>Kepler-228 b</td>\n",
       "      <td>296.28613</td>\n",
       "      <td>0.0</td>\n",
       "      <td>19h45m08.67s</td>\n",
       "      <td>48.224670</td>\n",
       "      <td>0.0</td>\n",
       "      <td>+48d13m28.8s</td>\n",
       "      <td>...</td>\n",
       "      <td>0.333468</td>\n",
       "      <td>10872983.0</td>\n",
       "      <td>K00756.03</td>\n",
       "      <td>1.874</td>\n",
       "      <td>0.510</td>\n",
       "      <td>0.217</td>\n",
       "      <td>863.776</td>\n",
       "      <td>104.338</td>\n",
       "      <td>91.555</td>\n",
       "      <td>0.0</td>\n",
       "    </tr>\n",
       "    <tr>\n",
       "      <th>1</th>\n",
       "      <td>10</td>\n",
       "      <td>5436502</td>\n",
       "      <td>K00834.04</td>\n",
       "      <td>Kepler-238 b</td>\n",
       "      <td>287.89713</td>\n",
       "      <td>0.0</td>\n",
       "      <td>19h11m35.31s</td>\n",
       "      <td>40.637821</td>\n",
       "      <td>0.0</td>\n",
       "      <td>+40d38m16.2s</td>\n",
       "      <td>...</td>\n",
       "      <td>0.102239</td>\n",
       "      <td>5436502.0</td>\n",
       "      <td>K00834.04</td>\n",
       "      <td>1.905</td>\n",
       "      <td>0.407</td>\n",
       "      <td>0.204</td>\n",
       "      <td>2500.588</td>\n",
       "      <td>231.349</td>\n",
       "      <td>207.679</td>\n",
       "      <td>0.0</td>\n",
       "    </tr>\n",
       "    <tr>\n",
       "      <th>2</th>\n",
       "      <td>20</td>\n",
       "      <td>8150320</td>\n",
       "      <td>K00904.01</td>\n",
       "      <td>Kepler-55 d</td>\n",
       "      <td>285.16833</td>\n",
       "      <td>0.0</td>\n",
       "      <td>19h00m40.40s</td>\n",
       "      <td>44.026459</td>\n",
       "      <td>0.0</td>\n",
       "      <td>+44d01m35.3s</td>\n",
       "      <td>...</td>\n",
       "      <td>0.493659</td>\n",
       "      <td>8150320.0</td>\n",
       "      <td>K00904.01</td>\n",
       "      <td>1.939</td>\n",
       "      <td>0.209</td>\n",
       "      <td>0.181</td>\n",
       "      <td>195.005</td>\n",
       "      <td>11.083</td>\n",
       "      <td>10.496</td>\n",
       "      <td>0.0</td>\n",
       "    </tr>\n",
       "    <tr>\n",
       "      <th>3</th>\n",
       "      <td>28</td>\n",
       "      <td>5880320</td>\n",
       "      <td>K01060.02</td>\n",
       "      <td>Kepler-758 c</td>\n",
       "      <td>293.08463</td>\n",
       "      <td>0.0</td>\n",
       "      <td>19h32m20.31s</td>\n",
       "      <td>41.135441</td>\n",
       "      <td>0.0</td>\n",
       "      <td>+41d08m07.6s</td>\n",
       "      <td>...</td>\n",
       "      <td>0.099703</td>\n",
       "      <td>5880320.0</td>\n",
       "      <td>K01060.02</td>\n",
       "      <td>1.836</td>\n",
       "      <td>0.365</td>\n",
       "      <td>0.121</td>\n",
       "      <td>1211.822</td>\n",
       "      <td>83.344</td>\n",
       "      <td>77.105</td>\n",
       "      <td>0.0</td>\n",
       "    </tr>\n",
       "    <tr>\n",
       "      <th>4</th>\n",
       "      <td>30</td>\n",
       "      <td>5880320</td>\n",
       "      <td>K01060.04</td>\n",
       "      <td>Kepler-758 e</td>\n",
       "      <td>293.08463</td>\n",
       "      <td>0.0</td>\n",
       "      <td>19h32m20.31s</td>\n",
       "      <td>41.135441</td>\n",
       "      <td>0.0</td>\n",
       "      <td>+41d08m07.6s</td>\n",
       "      <td>...</td>\n",
       "      <td>0.099703</td>\n",
       "      <td>5880320.0</td>\n",
       "      <td>K01060.04</td>\n",
       "      <td>1.879</td>\n",
       "      <td>0.262</td>\n",
       "      <td>0.220</td>\n",
       "      <td>588.402</td>\n",
       "      <td>40.468</td>\n",
       "      <td>37.439</td>\n",
       "      <td>0.0</td>\n",
       "    </tr>\n",
       "  </tbody>\n",
       "</table>\n",
       "<p>5 rows × 212 columns</p>\n",
       "</div>"
      ],
      "text/plain": [
       "   Unnamed: 0  dr25_kepid dr25_kepoi_name dr25_kepler_name    dr25_ra  \\\n",
       "0           6    10872983       K00756.03     Kepler-228 b  296.28613   \n",
       "1          10     5436502       K00834.04     Kepler-238 b  287.89713   \n",
       "2          20     8150320       K00904.01      Kepler-55 d  285.16833   \n",
       "3          28     5880320       K01060.02     Kepler-758 c  293.08463   \n",
       "4          30     5880320       K01060.04     Kepler-758 e  293.08463   \n",
       "\n",
       "   dr25_ra_err   dr25_ra_str   dr25_dec  dr25_dec_err  dr25_dec_str  ...  \\\n",
       "0          0.0  19h45m08.67s  48.224670           0.0  +48d13m28.8s  ...   \n",
       "1          0.0  19h11m35.31s  40.637821           0.0  +40d38m16.2s  ...   \n",
       "2          0.0  19h00m40.40s  44.026459           0.0  +44d01m35.3s  ...   \n",
       "3          0.0  19h32m20.31s  41.135441           0.0  +41d08m07.6s  ...   \n",
       "4          0.0  19h32m20.31s  41.135441           0.0  +41d08m07.6s  ...   \n",
       "\n",
       "   b20_e_log10_iso_age     b18_KIC    b18_KOI  b18_Rp  b18_E_Rp  b18_e_Rp  \\\n",
       "0             0.333468  10872983.0  K00756.03   1.874     0.510     0.217   \n",
       "1             0.102239   5436502.0  K00834.04   1.905     0.407     0.204   \n",
       "2             0.493659   8150320.0  K00904.01   1.939     0.209     0.181   \n",
       "3             0.099703   5880320.0  K01060.02   1.836     0.365     0.121   \n",
       "4             0.099703   5880320.0  K01060.04   1.879     0.262     0.220   \n",
       "\n",
       "     b18_Fp  b18_E_Fp  b18_e_Fp  b18_Bin  \n",
       "0   863.776   104.338    91.555      0.0  \n",
       "1  2500.588   231.349   207.679      0.0  \n",
       "2   195.005    11.083    10.496      0.0  \n",
       "3  1211.822    83.344    77.105      0.0  \n",
       "4   588.402    40.468    37.439      0.0  \n",
       "\n",
       "[5 rows x 212 columns]"
      ]
     },
     "execution_count": 64,
     "metadata": {},
     "output_type": "execute_result"
    }
   ],
   "source": [
    "df = pd.read_csv('./sample.csv')\n",
    "df.head() \n",
    "\n",
    "#To print columns do:\n",
    "#for col in df.columns:\n",
    "   #print(col)"
   ]
  },
  {
   "cell_type": "code",
   "execution_count": 65,
   "metadata": {},
   "outputs": [
    {
     "name": "stderr",
     "output_type": "stream",
     "text": [
      "WARNING (theano.tensor.opt): Cannot construct a scalar test value from a test value with no size: InplaceDimShuffle{x,0}.0\n",
      "WARNING (theano.tensor.opt): Cannot construct a scalar test value from a test value with no size: Elemwise{cos,no_inplace}.0\n",
      "WARNING (theano.tensor.opt): Cannot construct a scalar test value from a test value with no size: InplaceDimShuffle{x,0}.0\n",
      "WARNING (theano.tensor.opt): Cannot construct a scalar test value from a test value with no size: Elemwise{sin,no_inplace}.0\n",
      "WARNING (theano.tensor.opt): Cannot construct a scalar test value from a test value with no size: InplaceDimShuffle{x,0}.0\n",
      "WARNING (theano.tensor.opt): Cannot construct a scalar test value from a test value with no size: Elemwise{sin,no_inplace}.0\n",
      "WARNING (theano.tensor.opt): Cannot construct a scalar test value from a test value with no size: InplaceDimShuffle{x,0}.0\n",
      "WARNING (theano.tensor.opt): Cannot construct a scalar test value from a test value with no size: Elemwise{cos,no_inplace}.0\n"
     ]
    },
    {
     "name": "stdout",
     "output_type": "stream",
     "text": [
      "mean                   -3.22\n",
      "u_quadlimbdark__       -2.77\n",
      "sigma_log__            -0.53\n",
      "log_sigma_gp           -3.22\n",
      "log_rho_gp             -3.22\n",
      "log_ror                -3.22\n",
      "log_period             -0.92\n",
      "t0                     -0.92\n",
      "log_dur                -3.22\n",
      "b_impact__             -1.39\n",
      "obs                -29923.79\n",
      "Name: Log-probability of test_point, dtype: float64\n"
     ]
    },
    {
     "name": "stderr",
     "output_type": "stream",
     "text": [
      "WARNING (theano.tensor.opt): Cannot construct a scalar test value from a test value with no size: InplaceDimShuffle{x,0}.0\n",
      "WARNING (theano.tensor.opt): Cannot construct a scalar test value from a test value with no size: Elemwise{cos,no_inplace}.0\n",
      "WARNING (theano.tensor.opt): Cannot construct a scalar test value from a test value with no size: InplaceDimShuffle{x,0}.0\n",
      "WARNING (theano.tensor.opt): Cannot construct a scalar test value from a test value with no size: Elemwise{sin,no_inplace}.0\n",
      "WARNING (theano.tensor.opt): Cannot construct a scalar test value from a test value with no size: InplaceDimShuffle{x,0}.0\n",
      "WARNING (theano.tensor.opt): Cannot construct a scalar test value from a test value with no size: Elemwise{sin,no_inplace}.0\n",
      "WARNING (theano.tensor.opt): Cannot construct a scalar test value from a test value with no size: InplaceDimShuffle{x,0}.0\n",
      "WARNING (theano.tensor.opt): Cannot construct a scalar test value from a test value with no size: Elemwise{cos,no_inplace}.0\n",
      "optimizing logp for variables: [sigma]\n"
     ]
    },
    {
     "data": {
      "text/html": [
       "\n",
       "    <div>\n",
       "        <style>\n",
       "            /* Turns off some styling */\n",
       "            progress {\n",
       "                /* gets rid of default border in Firefox and Opera. */\n",
       "                border: none;\n",
       "                /* Needs to be in here for Safari polyfill so background images work as expected. */\n",
       "                background-size: auto;\n",
       "            }\n",
       "            .progress-bar-interrupted, .progress-bar-interrupted::-webkit-progress-bar {\n",
       "                background: #F44336;\n",
       "            }\n",
       "        </style>\n",
       "      <progress value='9' class='' max='9' style='width:300px; height:20px; vertical-align: middle;'></progress>\n",
       "      100.00% [9/9 00:00<00:00 logp = -2.990e+04]\n",
       "    </div>\n",
       "    "
      ],
      "text/plain": [
       "<IPython.core.display.HTML object>"
      ]
     },
     "metadata": {},
     "output_type": "display_data"
    },
    {
     "name": "stdout",
     "output_type": "stream",
     "text": [
      "\n"
     ]
    },
    {
     "name": "stderr",
     "output_type": "stream",
     "text": [
      "message: Optimization terminated successfully.\n",
      "logp: -29946.43198142642 -> -29896.26493617613\n",
      "WARNING (theano.tensor.opt): Cannot construct a scalar test value from a test value with no size: InplaceDimShuffle{x,0}.0\n",
      "WARNING (theano.tensor.opt): Cannot construct a scalar test value from a test value with no size: Elemwise{cos,no_inplace}.0\n",
      "WARNING (theano.tensor.opt): Cannot construct a scalar test value from a test value with no size: InplaceDimShuffle{x,0}.0\n",
      "WARNING (theano.tensor.opt): Cannot construct a scalar test value from a test value with no size: Elemwise{sin,no_inplace}.0\n",
      "WARNING (theano.tensor.opt): Cannot construct a scalar test value from a test value with no size: InplaceDimShuffle{x,0}.0\n",
      "WARNING (theano.tensor.opt): Cannot construct a scalar test value from a test value with no size: Elemwise{sin,no_inplace}.0\n",
      "WARNING (theano.tensor.opt): Cannot construct a scalar test value from a test value with no size: InplaceDimShuffle{x,0}.0\n",
      "WARNING (theano.tensor.opt): Cannot construct a scalar test value from a test value with no size: Elemwise{cos,no_inplace}.0\n",
      "optimizing logp for variables: [log_dur, b, log_ror]\n"
     ]
    },
    {
     "data": {
      "text/html": [
       "\n",
       "    <div>\n",
       "        <style>\n",
       "            /* Turns off some styling */\n",
       "            progress {\n",
       "                /* gets rid of default border in Firefox and Opera. */\n",
       "                border: none;\n",
       "                /* Needs to be in here for Safari polyfill so background images work as expected. */\n",
       "                background-size: auto;\n",
       "            }\n",
       "            .progress-bar-interrupted, .progress-bar-interrupted::-webkit-progress-bar {\n",
       "                background: #F44336;\n",
       "            }\n",
       "        </style>\n",
       "      <progress value='42' class='' max='42' style='width:300px; height:20px; vertical-align: middle;'></progress>\n",
       "      100.00% [42/42 00:00<00:00 logp = -2.989e+04]\n",
       "    </div>\n",
       "    "
      ],
      "text/plain": [
       "<IPython.core.display.HTML object>"
      ]
     },
     "metadata": {},
     "output_type": "display_data"
    },
    {
     "name": "stdout",
     "output_type": "stream",
     "text": [
      "\n"
     ]
    },
    {
     "name": "stderr",
     "output_type": "stream",
     "text": [
      "message: Desired error not necessarily achieved due to precision loss.\n",
      "logp: -29896.264936176154 -> -29885.201269881367\n",
      "WARNING (theano.tensor.opt): Cannot construct a scalar test value from a test value with no size: Elemwise{mul}.0\n",
      "WARNING (theano.tensor.opt): Cannot construct a scalar test value from a test value with no size: Elemwise{sin,no_inplace}.0\n",
      "WARNING (theano.tensor.opt): Cannot construct a scalar test value from a test value with no size: Elemwise{cos,no_inplace}.0\n",
      "WARNING (theano.tensor.opt): Cannot construct a scalar test value from a test value with no size: Elemwise{mul}.0\n",
      "WARNING (theano.tensor.opt): Cannot construct a scalar test value from a test value with no size: {self.__class__.__name__ }{{{self.len_splits}}}.1\n",
      "WARNING (theano.tensor.opt): Cannot construct a scalar test value from a test value with no size: Elemwise{mul}.0\n",
      "WARNING (theano.tensor.opt): Cannot construct a scalar test value from a test value with no size: Elemwise{mul}.0\n",
      "WARNING (theano.tensor.opt): Cannot construct a scalar test value from a test value with no size: {self.__class__.__name__ }{{{self.len_splits}}}.2\n",
      "WARNING (theano.tensor.opt): Cannot construct a scalar test value from a test value with no size: {self.__class__.__name__ }{{{self.len_splits}}}.1\n",
      "WARNING (theano.tensor.opt): Cannot construct a scalar test value from a test value with no size: InplaceDimShuffle{x,0}.0\n",
      "WARNING (theano.tensor.opt): Cannot construct a scalar test value from a test value with no size: {self.__class__.__name__ }{{{self.len_splits}}}.2\n",
      "WARNING (theano.tensor.opt): Cannot construct a scalar test value from a test value with no size: InplaceDimShuffle{x,0}.0\n",
      "WARNING (theano.tensor.opt): Cannot construct a scalar test value from a test value with no size: InplaceDimShuffle{x,0}.0\n",
      "WARNING (theano.tensor.opt): Cannot construct a scalar test value from a test value with no size: Elemwise{cos,no_inplace}.0\n",
      "WARNING (theano.tensor.opt): Cannot construct a scalar test value from a test value with no size: InplaceDimShuffle{x,0}.0\n",
      "WARNING (theano.tensor.opt): Cannot construct a scalar test value from a test value with no size: Elemwise{sin,no_inplace}.0\n",
      "WARNING (theano.tensor.opt): Cannot construct a scalar test value from a test value with no size: InplaceDimShuffle{x,0}.0\n",
      "WARNING (theano.tensor.opt): Cannot construct a scalar test value from a test value with no size: Elemwise{sin,no_inplace}.0\n",
      "WARNING (theano.tensor.opt): Cannot construct a scalar test value from a test value with no size: InplaceDimShuffle{x,0}.0\n",
      "WARNING (theano.tensor.opt): Cannot construct a scalar test value from a test value with no size: Elemwise{cos,no_inplace}.0\n",
      "optimizing logp for variables: [log_rho_gp, log_sigma_gp, sigma]\n"
     ]
    },
    {
     "data": {
      "text/html": [
       "\n",
       "    <div>\n",
       "        <style>\n",
       "            /* Turns off some styling */\n",
       "            progress {\n",
       "                /* gets rid of default border in Firefox and Opera. */\n",
       "                border: none;\n",
       "                /* Needs to be in here for Safari polyfill so background images work as expected. */\n",
       "                background-size: auto;\n",
       "            }\n",
       "            .progress-bar-interrupted, .progress-bar-interrupted::-webkit-progress-bar {\n",
       "                background: #F44336;\n",
       "            }\n",
       "        </style>\n",
       "      <progress value='65' class='' max='65' style='width:300px; height:20px; vertical-align: middle;'></progress>\n",
       "      100.00% [65/65 00:00<00:00 logp = -2.937e+04]\n",
       "    </div>\n",
       "    "
      ],
      "text/plain": [
       "<IPython.core.display.HTML object>"
      ]
     },
     "metadata": {},
     "output_type": "display_data"
    },
    {
     "name": "stdout",
     "output_type": "stream",
     "text": [
      "\n"
     ]
    },
    {
     "name": "stderr",
     "output_type": "stream",
     "text": [
      "message: Desired error not necessarily achieved due to precision loss.\n",
      "logp: -29885.201269881378 -> -29374.4811014973\n",
      "WARNING (theano.tensor.opt): Cannot construct a scalar test value from a test value with no size: InplaceDimShuffle{x,0}.0\n",
      "WARNING (theano.tensor.opt): Cannot construct a scalar test value from a test value with no size: Elemwise{cos,no_inplace}.0\n",
      "WARNING (theano.tensor.opt): Cannot construct a scalar test value from a test value with no size: InplaceDimShuffle{x,0}.0\n",
      "WARNING (theano.tensor.opt): Cannot construct a scalar test value from a test value with no size: Elemwise{sin,no_inplace}.0\n",
      "WARNING (theano.tensor.opt): Cannot construct a scalar test value from a test value with no size: InplaceDimShuffle{x,0}.0\n",
      "WARNING (theano.tensor.opt): Cannot construct a scalar test value from a test value with no size: Elemwise{sin,no_inplace}.0\n",
      "WARNING (theano.tensor.opt): Cannot construct a scalar test value from a test value with no size: InplaceDimShuffle{x,0}.0\n",
      "WARNING (theano.tensor.opt): Cannot construct a scalar test value from a test value with no size: Elemwise{cos,no_inplace}.0\n",
      "optimizing logp for variables: [u, mean]\n"
     ]
    },
    {
     "data": {
      "text/html": [
       "\n",
       "    <div>\n",
       "        <style>\n",
       "            /* Turns off some styling */\n",
       "            progress {\n",
       "                /* gets rid of default border in Firefox and Opera. */\n",
       "                border: none;\n",
       "                /* Needs to be in here for Safari polyfill so background images work as expected. */\n",
       "                background-size: auto;\n",
       "            }\n",
       "            .progress-bar-interrupted, .progress-bar-interrupted::-webkit-progress-bar {\n",
       "                background: #F44336;\n",
       "            }\n",
       "        </style>\n",
       "      <progress value='9' class='' max='9' style='width:300px; height:20px; vertical-align: middle;'></progress>\n",
       "      100.00% [9/9 00:00<00:00 logp = -2.937e+04]\n",
       "    </div>\n",
       "    "
      ],
      "text/plain": [
       "<IPython.core.display.HTML object>"
      ]
     },
     "metadata": {},
     "output_type": "display_data"
    },
    {
     "name": "stdout",
     "output_type": "stream",
     "text": [
      "\n"
     ]
    },
    {
     "name": "stderr",
     "output_type": "stream",
     "text": [
      "message: Optimization terminated successfully.\n",
      "logp: -29374.4811014973 -> -29374.272026341252\n",
      "WARNING (theano.tensor.opt): Cannot construct a scalar test value from a test value with no size: Elemwise{mul}.0\n",
      "WARNING (theano.tensor.opt): Cannot construct a scalar test value from a test value with no size: Elemwise{sin,no_inplace}.0\n",
      "WARNING (theano.tensor.opt): Cannot construct a scalar test value from a test value with no size: Elemwise{cos,no_inplace}.0\n",
      "WARNING (theano.tensor.opt): Cannot construct a scalar test value from a test value with no size: Elemwise{mul}.0\n",
      "WARNING (theano.tensor.opt): Cannot construct a scalar test value from a test value with no size: {self.__class__.__name__ }{{{self.len_splits}}}.1\n",
      "WARNING (theano.tensor.opt): Cannot construct a scalar test value from a test value with no size: Elemwise{mul}.0\n",
      "WARNING (theano.tensor.opt): Cannot construct a scalar test value from a test value with no size: Elemwise{mul}.0\n",
      "WARNING (theano.tensor.opt): Cannot construct a scalar test value from a test value with no size: {self.__class__.__name__ }{{{self.len_splits}}}.2\n",
      "WARNING (theano.tensor.opt): Cannot construct a scalar test value from a test value with no size: {self.__class__.__name__ }{{{self.len_splits}}}.1\n",
      "WARNING (theano.tensor.opt): Cannot construct a scalar test value from a test value with no size: InplaceDimShuffle{x,0}.0\n",
      "WARNING (theano.tensor.opt): Cannot construct a scalar test value from a test value with no size: {self.__class__.__name__ }{{{self.len_splits}}}.2\n",
      "WARNING (theano.tensor.opt): Cannot construct a scalar test value from a test value with no size: InplaceDimShuffle{x,0}.0\n",
      "WARNING (theano.tensor.opt): Cannot construct a scalar test value from a test value with no size: InplaceDimShuffle{x,0}.0\n",
      "WARNING (theano.tensor.opt): Cannot construct a scalar test value from a test value with no size: Elemwise{cos,no_inplace}.0\n",
      "WARNING (theano.tensor.opt): Cannot construct a scalar test value from a test value with no size: InplaceDimShuffle{x,0}.0\n",
      "WARNING (theano.tensor.opt): Cannot construct a scalar test value from a test value with no size: Elemwise{sin,no_inplace}.0\n",
      "WARNING (theano.tensor.opt): Cannot construct a scalar test value from a test value with no size: InplaceDimShuffle{x,0}.0\n",
      "WARNING (theano.tensor.opt): Cannot construct a scalar test value from a test value with no size: Elemwise{sin,no_inplace}.0\n",
      "WARNING (theano.tensor.opt): Cannot construct a scalar test value from a test value with no size: InplaceDimShuffle{x,0}.0\n",
      "WARNING (theano.tensor.opt): Cannot construct a scalar test value from a test value with no size: Elemwise{cos,no_inplace}.0\n",
      "optimizing logp for variables: [b, log_dur, t0, log_period, log_ror, log_rho_gp, log_sigma_gp, sigma, u, mean]\n"
     ]
    },
    {
     "data": {
      "text/html": [
       "\n",
       "    <div>\n",
       "        <style>\n",
       "            /* Turns off some styling */\n",
       "            progress {\n",
       "                /* gets rid of default border in Firefox and Opera. */\n",
       "                border: none;\n",
       "                /* Needs to be in here for Safari polyfill so background images work as expected. */\n",
       "                background-size: auto;\n",
       "            }\n",
       "            .progress-bar-interrupted, .progress-bar-interrupted::-webkit-progress-bar {\n",
       "                background: #F44336;\n",
       "            }\n",
       "        </style>\n",
       "      <progress value='66' class='' max='66' style='width:300px; height:20px; vertical-align: middle;'></progress>\n",
       "      100.00% [66/66 00:00<00:00 logp = -2.937e+04]\n",
       "    </div>\n",
       "    "
      ],
      "text/plain": [
       "<IPython.core.display.HTML object>"
      ]
     },
     "metadata": {},
     "output_type": "display_data"
    },
    {
     "name": "stdout",
     "output_type": "stream",
     "text": [
      "\n"
     ]
    },
    {
     "name": "stderr",
     "output_type": "stream",
     "text": [
      "message: Desired error not necessarily achieved due to precision loss.\n",
      "logp: -29374.272026341256 -> -29374.25455860492\n",
      "WARNING (theano.tensor.opt): Cannot construct a scalar test value from a test value with no size: InplaceDimShuffle{x,0}.0\n",
      "WARNING (theano.tensor.opt): Cannot construct a scalar test value from a test value with no size: Elemwise{cos,no_inplace}.0\n",
      "WARNING (theano.tensor.opt): Cannot construct a scalar test value from a test value with no size: InplaceDimShuffle{x,0}.0\n",
      "WARNING (theano.tensor.opt): Cannot construct a scalar test value from a test value with no size: Elemwise{sin,no_inplace}.0\n",
      "WARNING (theano.tensor.opt): Cannot construct a scalar test value from a test value with no size: InplaceDimShuffle{x,0}.0\n",
      "WARNING (theano.tensor.opt): Cannot construct a scalar test value from a test value with no size: Elemwise{sin,no_inplace}.0\n",
      "WARNING (theano.tensor.opt): Cannot construct a scalar test value from a test value with no size: InplaceDimShuffle{x,0}.0\n",
      "WARNING (theano.tensor.opt): Cannot construct a scalar test value from a test value with no size: Elemwise{cos,no_inplace}.0\n"
     ]
    },
    {
     "name": "stdout",
     "output_type": "stream",
     "text": [
      "0.006734257804022895 hours elapsed\n"
     ]
    }
   ],
   "source": [
    "import time\n",
    "start_time = time.time()\n",
    "\n",
    "kep_id = np.array(df.dr25_kepid)\n",
    "unique_kepid = np.unique(df.dr25_kepid)\n",
    "koi_name = np.array(df.dr25_kepoi_name)\n",
    "koi_period = np.array(df.dr25_koi_period)\n",
    "koi_depth = np.array(df.dr25_koi_depth)/10**3\n",
    "koi_t0 = np.array(df.dr25_koi_time0bk)\n",
    "\n",
    "def format_input(x):    \n",
    "    return np.array([x]).reshape(-1)\n",
    "    \n",
    "failures = []\n",
    "\n",
    "#for i in range(len(unique_kepid)):\n",
    "for i in range(1):\n",
    "    kic = unique_kepid[i]\n",
    "    arg = kep_id == unique_kepid[i]\n",
    "    _kepid = 'KIC' + str(kep_id[arg][0])\n",
    "    _koi_name = format_input(koi_name[arg])\n",
    "    _koi_period = format_input(koi_period[arg])\n",
    "    _koi_depth = format_input(koi_depth[arg])\n",
    "    _koi_t0 = format_input(koi_t0[arg])\n",
    "    \n",
    "    try:\n",
    "        map_soln, x, y, yerr = pipeline(kepid = _kepid, koi = _koi_name, period_guess = _koi_period , t0_guess = _koi_t0, \n",
    "             depth_guess = _koi_depth, cadence = 'long')\n",
    "        \n",
    "    except:\n",
    "        failures.append(_kepid) \n",
    "        print(i, _kepid)\n",
    "        \n",
    "\n",
    "#Write failures to file with date and time to keep track of runs\n",
    "from datetime import datetime\n",
    "now = datetime.now()\n",
    "dt_string = now.strftime(\"%Y%m%d\")\n",
    "\n",
    "failures_df = pd.DataFrame({\"kic\": np.array(failures)})\n",
    "failures_df.to_csv('./failures'+ dt_string + '.csv', index=False)\n",
    "\n",
    "#Print total elapsed time\n",
    "print((time.time() - start_time)/(3600), 'hours elapsed')"
   ]
  },
  {
   "cell_type": "code",
   "execution_count": 53,
   "metadata": {},
   "outputs": [
    {
     "data": {
      "text/plain": [
       "array([ 131.5126894 ,  131.53312411,  131.55355871, ..., 1590.96063093,\n",
       "       1590.98106548, 1591.00150022])"
      ]
     },
     "execution_count": 53,
     "metadata": {},
     "output_type": "execute_result"
    }
   ],
   "source": []
  },
  {
   "cell_type": "code",
   "execution_count": 59,
   "metadata": {},
   "outputs": [
    {
     "data": {
      "image/png": "[encoded data removed]",
      "text/plain": [
       "<Figure size 432x288 with 1 Axes>"
      ]
     },
     "metadata": {
      "needs_background": "light"
     },
     "output_type": "display_data"
    }
   ],
   "source": [
    "\n",
    "\n",
    "freq, power = results[\"periodogram\"]\n",
    "plt.plot(1 / freq, power, \"k\")\n",
    "plt.axvline(peak[\"period\"], color=\"k\", lw=4, alpha=0.3)\n",
    "plt.xlim((1 / freq).min(), (1 / freq).max())\n",
    "plt.xlabel(\"period [days]\")\n",
    "_ = plt.ylabel(\"power\")"
   ]
  },
  {
   "cell_type": "code",
   "execution_count": 60,
   "metadata": {},
   "outputs": [
    {
     "data": {
      "text/plain": [
       "19.655628659934415"
      ]
     },
     "execution_count": 60,
     "metadata": {},
     "output_type": "execute_result"
    }
   ],
   "source": [
    "peak['period']"
   ]
  },
  {
   "cell_type": "code",
   "execution_count": null,
   "metadata": {},
   "outputs": [],
   "source": []
  }
 ],
 "metadata": {
  "kernelspec": {
   "display_name": "Python 3",
   "language": "python",
   "name": "python3"
  },
  "language_info": {
   "codemirror_mode": {
    "name": "ipython",
    "version": 3
   },
   "file_extension": ".py",
   "mimetype": "text/x-python",
   "name": "python",
   "nbconvert_exporter": "python",
   "pygments_lexer": "ipython3",
   "version": "3.7.6"
  }
 },
 "nbformat": 4,
 "nbformat_minor": 4
}
